{
 "cells": [
  {
   "cell_type": "code",
   "execution_count": 1,
   "metadata": {},
   "outputs": [],
   "source": [
    "import sys\n",
    "import pandas as pd\n",
    "import numpy as np\n",
    "\n",
    "import torch\n",
    "from transformers import (\n",
    "    AutoTokenizer,\n",
    "    AutoModelForTokenClassification,\n",
    "    pipeline,\n",
    "    Trainer,\n",
    "    TrainingArguments,\n",
    ")\n",
    "import evaluate\n",
    "from sklearn.model_selection import train_test_split\n",
    "\n",
    "sys.path.append(\"character-tokenizer\")\n",
    "from charactertokenizer import CharacterTokenizer\n",
    "\n",
    "import warnings\n",
    "warnings.filterwarnings('ignore')\n",
    "\n",
    "MODEL_NAME = \"DeepPavlov/rubert-base-cased\"\n",
    "MODEL_MAX_LENGTH = 64"
   ]
  },
  {
   "cell_type": "code",
   "execution_count": 2,
   "metadata": {},
   "outputs": [],
   "source": [
    "def parse_label(line):\n",
    "    labels = []\n",
    "    i = 0\n",
    "    while i < len(line):\n",
    "        if line[i] == \"^\":\n",
    "            labels.append(1)\n",
    "            i += 1\n",
    "        else:\n",
    "            labels.append(0)\n",
    "        i += 1\n",
    "    return \" \".join([str(x) for x in labels])\n",
    "\n",
    "\n",
    "def create_labels(s):\n",
    "    labels = []\n",
    "    flag = False\n",
    "    for char in s:\n",
    "        if char == \"^\":\n",
    "            flag = True\n",
    "        else:\n",
    "            labels.append(1 if flag else 0)\n",
    "            flag = False\n",
    "\n",
    "    return \" \".join([str(x) for x in labels])"
   ]
  },
  {
   "cell_type": "code",
   "execution_count": 3,
   "metadata": {},
   "outputs": [],
   "source": [
    "data = pd.read_csv(\"data/all_accents.tsv\", sep=\"\\t\", header=None)\n",
    "data = data.rename(columns={0: \"word\", 1: \"accent\"})\n",
    "data[\"labels\"] = data[\"accent\"].apply(lambda x: create_labels(x))\n",
    "\n",
    "X = data.drop('labels', axis=1)\n",
    "y = data['labels']\n",
    "\n",
    "# Разделение данных на обучающую и тестовую выборки\n",
    "X_train, X_test, y_train, y_test = train_test_split(X, y, test_size=0.2, random_state=42)"
   ]
  },
  {
   "cell_type": "code",
   "execution_count": 4,
   "metadata": {},
   "outputs": [
    {
     "data": {
      "text/html": [
       "<div>\n",
       "<style scoped>\n",
       "    .dataframe tbody tr th:only-of-type {\n",
       "        vertical-align: middle;\n",
       "    }\n",
       "\n",
       "    .dataframe tbody tr th {\n",
       "        vertical-align: top;\n",
       "    }\n",
       "\n",
       "    .dataframe thead th {\n",
       "        text-align: right;\n",
       "    }\n",
       "</style>\n",
       "<table border=\"1\" class=\"dataframe\">\n",
       "  <thead>\n",
       "    <tr style=\"text-align: right;\">\n",
       "      <th></th>\n",
       "      <th>word</th>\n",
       "      <th>accent</th>\n",
       "      <th>labels</th>\n",
       "    </tr>\n",
       "  </thead>\n",
       "  <tbody>\n",
       "    <tr>\n",
       "      <th>0</th>\n",
       "      <td>-де</td>\n",
       "      <td>-д^е</td>\n",
       "      <td>0 0 1</td>\n",
       "    </tr>\n",
       "    <tr>\n",
       "      <th>1</th>\n",
       "      <td>-ка</td>\n",
       "      <td>-к^а</td>\n",
       "      <td>0 0 1</td>\n",
       "    </tr>\n",
       "    <tr>\n",
       "      <th>2</th>\n",
       "      <td>-либо</td>\n",
       "      <td>-л^ибо</td>\n",
       "      <td>0 0 1 0 0</td>\n",
       "    </tr>\n",
       "    <tr>\n",
       "      <th>3</th>\n",
       "      <td>-нибудь</td>\n",
       "      <td>-ниб^удь</td>\n",
       "      <td>0 0 0 0 1 0 0</td>\n",
       "    </tr>\n",
       "    <tr>\n",
       "      <th>4</th>\n",
       "      <td>-с</td>\n",
       "      <td>-с</td>\n",
       "      <td>0 0</td>\n",
       "    </tr>\n",
       "  </tbody>\n",
       "</table>\n",
       "</div>"
      ],
      "text/plain": [
       "      word    accent         labels\n",
       "0      -де      -д^е          0 0 1\n",
       "1      -ка      -к^а          0 0 1\n",
       "2    -либо    -л^ибо      0 0 1 0 0\n",
       "3  -нибудь  -ниб^удь  0 0 0 0 1 0 0\n",
       "4       -с        -с            0 0"
      ]
     },
     "execution_count": 4,
     "metadata": {},
     "output_type": "execute_result"
    }
   ],
   "source": [
    "data.head()"
   ]
  },
  {
   "cell_type": "code",
   "execution_count": 5,
   "metadata": {},
   "outputs": [],
   "source": [
    "chars = \"АаБбВвГгДдЕеЁёЖжЗзИиЙйКкЛлМмНнОоПпРрСсТтУуФфХхЦцЧчШшЩщЪъЫыЬьЭэЮюЯя\"\n",
    "tokenizer = CharacterTokenizer(chars, MODEL_MAX_LENGTH, is_split_into_words=True,)\n",
    "special_tokens = list(range(6))"
   ]
  },
  {
   "cell_type": "code",
   "execution_count": 6,
   "metadata": {},
   "outputs": [],
   "source": [
    "# def tokenize_and_align_labels(examples):\n",
    "#     annotations = [int(i) for i in examples[\"labels\"].strip().split(\" \")]\n",
    "#     print(f\"annotations: {annotations}\")\n",
    "\n",
    "#     tokenized_inputs = tokenizer(examples[\"word\"].strip())\n",
    "#     print(f\"tokenized_inputs: {tokenized_inputs}\")\n",
    "\n",
    "#     labels = []\n",
    "#     for i, input_id in enumerate(tokenized_inputs[\"input_ids\"]):\n",
    "#         if input_id in special_tokens:\n",
    "#             labels.append(-100)\n",
    "#         else:\n",
    "#             labels.append(annotations.pop(0))\n",
    "\n",
    "#     tokenized_inputs[\"labels\"] = labels\n",
    "\n",
    "#     return tokenized_inputs\n",
    "\n",
    "\n",
    "def tokenize_and_align_labels(texts, text_labels):\n",
    "    tokenized_inputs = tokenizer(texts, truncation=True, padding=True, is_split_into_words=True,)\n",
    "\n",
    "    labels = []\n",
    "    for i, label in enumerate(text_labels):\n",
    "        annotations = [int(j) for j in label[0].strip().split(\" \")]\n",
    "\n",
    "        label_ids = []\n",
    "        for k, input_id in enumerate(tokenized_inputs[\"input_ids\"][i]):\n",
    "            if input_id in special_tokens:\n",
    "                label_ids.append(-100)\n",
    "            else:\n",
    "                label_ids.append(annotations.pop(0))\n",
    "        labels.append(label_ids)\n",
    "\n",
    "    tokenized_inputs[\"labels\"] = labels\n",
    "    return tokenized_inputs\n",
    "\n",
    "\n",
    "class StressDataset(torch.utils.data.Dataset):\n",
    "    def __init__(self, data):\n",
    "        self.data = data\n",
    "\n",
    "    def __getitem__(self, idx):\n",
    "        item = {key: torch.tensor(val[idx]) for key, val in self.data.items()}\n",
    "        # item[\"labels\"] = torch.tensor(self.data[idx])\n",
    "        return item\n",
    "\n",
    "    def __len__(self):\n",
    "        return len(self.data)"
   ]
  },
  {
   "cell_type": "code",
   "execution_count": 7,
   "metadata": {},
   "outputs": [],
   "source": [
    "# texts = data[\"word\"].tolist()\n",
    "# text_labels = data[\"labels\"].tolist()\n",
    "\n",
    "train_texts = [[sample] for sample in X_train[\"word\"]]\n",
    "train_text_labels = [[sample] for sample in y_train]\n",
    "\n",
    "test_texts = [[sample] for sample in X_test[\"word\"]]\n",
    "test_text_labels = [[sample] for sample in y_test]\n",
    "\n",
    "train_data_for_dataset = tokenize_and_align_labels(train_texts, train_text_labels)\n",
    "test_data_for_dataset = tokenize_and_align_labels(test_texts, test_text_labels)\n",
    "\n",
    "train_dataset = StressDataset(train_data_for_dataset)\n",
    "test_dataset = StressDataset(test_data_for_dataset)"
   ]
  },
  {
   "cell_type": "code",
   "execution_count": 8,
   "metadata": {},
   "outputs": [
    {
     "data": {
      "text/plain": [
       "{'input_ids': tensor([ 0, 36, 18, 38, 46, 44, 46, 48, 40, 36,  8, 72,  1,  4,  4,  4,  4,  4,\n",
       "          4,  4,  4,  4,  4,  4,  4,  4,  4,  4,  4,  4,  4,  4,  4,  4,  4,  4,\n",
       "          4,  4,  4,  4,  4,  4,  4,  4,  4,  4,  4,  4,  4,  4,  4,  4,  4,  4,\n",
       "          4,  4,  4,  4]),\n",
       " 'token_type_ids': tensor([0, 0, 0, 0, 0, 0, 0, 0, 0, 0, 0, 0, 0, 0, 0, 0, 0, 0, 0, 0, 0, 0, 0, 0,\n",
       "         0, 0, 0, 0, 0, 0, 0, 0, 0, 0, 0, 0, 0, 0, 0, 0, 0, 0, 0, 0, 0, 0, 0, 0,\n",
       "         0, 0, 0, 0, 0, 0, 0, 0, 0, 0]),\n",
       " 'attention_mask': tensor([1, 1, 1, 1, 1, 1, 1, 1, 1, 1, 1, 1, 1, 0, 0, 0, 0, 0, 0, 0, 0, 0, 0, 0,\n",
       "         0, 0, 0, 0, 0, 0, 0, 0, 0, 0, 0, 0, 0, 0, 0, 0, 0, 0, 0, 0, 0, 0, 0, 0,\n",
       "         0, 0, 0, 0, 0, 0, 0, 0, 0, 0]),\n",
       " 'labels': tensor([-100,    0,    0,    0,    0,    0,    0,    1,    0,    0,    0,    0,\n",
       "         -100, -100, -100, -100, -100, -100, -100, -100, -100, -100, -100, -100,\n",
       "         -100, -100, -100, -100, -100, -100, -100, -100, -100, -100, -100, -100,\n",
       "         -100, -100, -100, -100, -100, -100, -100, -100, -100, -100, -100, -100,\n",
       "         -100, -100, -100, -100, -100, -100, -100, -100, -100, -100])}"
      ]
     },
     "execution_count": 8,
     "metadata": {},
     "output_type": "execute_result"
    }
   ],
   "source": [
    "train_dataset[3]"
   ]
  },
  {
   "cell_type": "code",
   "execution_count": 9,
   "metadata": {},
   "outputs": [
    {
     "name": "stderr",
     "output_type": "stream",
     "text": [
      "Some weights of BertForTokenClassification were not initialized from the model checkpoint at DeepPavlov/rubert-base-cased and are newly initialized: ['classifier.bias', 'classifier.weight']\n",
      "You should probably TRAIN this model on a down-stream task to be able to use it for predictions and inference.\n"
     ]
    }
   ],
   "source": [
    "id2label = {0: \"O\", 1: \"A\"}\n",
    "label2id = {\"O\": 0, \"A\": 1}\n",
    "\n",
    "model = AutoModelForTokenClassification.from_pretrained(\n",
    "    MODEL_NAME, num_labels=2, id2label=id2label, label2id=label2id\n",
    ").to(\"cuda\")"
   ]
  },
  {
   "cell_type": "code",
   "execution_count": 10,
   "metadata": {},
   "outputs": [
    {
     "name": "stderr",
     "output_type": "stream",
     "text": [
      "Failed to detect the name of this notebook, you can set it manually with the WANDB_NOTEBOOK_NAME environment variable to enable code saving.\n",
      "\u001b[34m\u001b[1mwandb\u001b[0m: Currently logged in as: \u001b[33mlaputin001\u001b[0m. Use \u001b[1m`wandb login --relogin`\u001b[0m to force relogin\n"
     ]
    },
    {
     "data": {
      "text/html": [
       "wandb version 0.16.6 is available!  To upgrade, please run:\n",
       " $ pip install wandb --upgrade"
      ],
      "text/plain": [
       "<IPython.core.display.HTML object>"
      ]
     },
     "metadata": {},
     "output_type": "display_data"
    },
    {
     "data": {
      "text/html": [
       "Tracking run with wandb version 0.15.9"
      ],
      "text/plain": [
       "<IPython.core.display.HTML object>"
      ]
     },
     "metadata": {},
     "output_type": "display_data"
    },
    {
     "data": {
      "text/html": [
       "Run data is saved locally in <code>d:\\study\\nn\\nn-homeworks\\hw9\\wandb\\run-20240414_194402-mam7bqqo</code>"
      ],
      "text/plain": [
       "<IPython.core.display.HTML object>"
      ]
     },
     "metadata": {},
     "output_type": "display_data"
    },
    {
     "data": {
      "text/html": [
       "Syncing run <strong><a href='https://wandb.ai/laputin001/huggingface-stress/runs/mam7bqqo' target=\"_blank\">DeepPavlov/rubert-base-cased-64-stress</a></strong> to <a href='https://wandb.ai/laputin001/huggingface-stress' target=\"_blank\">Weights & Biases</a> (<a href='https://wandb.me/run' target=\"_blank\">docs</a>)<br/>"
      ],
      "text/plain": [
       "<IPython.core.display.HTML object>"
      ]
     },
     "metadata": {},
     "output_type": "display_data"
    },
    {
     "data": {
      "text/html": [
       " View project at <a href='https://wandb.ai/laputin001/huggingface-stress' target=\"_blank\">https://wandb.ai/laputin001/huggingface-stress</a>"
      ],
      "text/plain": [
       "<IPython.core.display.HTML object>"
      ]
     },
     "metadata": {},
     "output_type": "display_data"
    },
    {
     "data": {
      "text/html": [
       " View run at <a href='https://wandb.ai/laputin001/huggingface-stress/runs/mam7bqqo' target=\"_blank\">https://wandb.ai/laputin001/huggingface-stress/runs/mam7bqqo</a>"
      ],
      "text/plain": [
       "<IPython.core.display.HTML object>"
      ]
     },
     "metadata": {},
     "output_type": "display_data"
    },
    {
     "data": {
      "application/vnd.jupyter.widget-view+json": {
       "model_id": "9e3deac4e52e4819ad0e2ca37b495c7f",
       "version_major": 2,
       "version_minor": 0
      },
      "text/plain": [
       "  0%|          | 0/20 [00:00<?, ?it/s]"
      ]
     },
     "metadata": {},
     "output_type": "display_data"
    },
    {
     "data": {
      "application/vnd.jupyter.widget-view+json": {
       "model_id": "e8c3d967329244bcbd37fb391a4d63f8",
       "version_major": 2,
       "version_minor": 0
      },
      "text/plain": [
       "  0%|          | 0/1 [00:00<?, ?it/s]"
      ]
     },
     "metadata": {},
     "output_type": "display_data"
    },
    {
     "name": "stdout",
     "output_type": "stream",
     "text": [
      "{'eval_loss': 0.7185212969779968, 'eval_precision': 0.0, 'eval_recall': 0.0, 'eval_f1': 0.0, 'eval_accuracy': 0.37209302325581395, 'eval_runtime': 1.036, 'eval_samples_per_second': 3.861, 'eval_steps_per_second': 0.965, 'epoch': 1.0}\n"
     ]
    },
    {
     "data": {
      "application/vnd.jupyter.widget-view+json": {
       "model_id": "e3f976b56e784d2db13609424d140a83",
       "version_major": 2,
       "version_minor": 0
      },
      "text/plain": [
       "  0%|          | 0/1 [00:00<?, ?it/s]"
      ]
     },
     "metadata": {},
     "output_type": "display_data"
    },
    {
     "name": "stdout",
     "output_type": "stream",
     "text": [
      "{'eval_loss': 0.7156548500061035, 'eval_precision': 0.0, 'eval_recall': 0.0, 'eval_f1': 0.0, 'eval_accuracy': 0.4186046511627907, 'eval_runtime': 0.8367, 'eval_samples_per_second': 4.781, 'eval_steps_per_second': 1.195, 'epoch': 2.0}\n"
     ]
    },
    {
     "data": {
      "application/vnd.jupyter.widget-view+json": {
       "model_id": "4c5dde84128c49b294469b66f9608114",
       "version_major": 2,
       "version_minor": 0
      },
      "text/plain": [
       "  0%|          | 0/1 [00:00<?, ?it/s]"
      ]
     },
     "metadata": {},
     "output_type": "display_data"
    },
    {
     "name": "stdout",
     "output_type": "stream",
     "text": [
      "{'eval_loss': 0.7097111344337463, 'eval_precision': 0.0, 'eval_recall': 0.0, 'eval_f1': 0.0, 'eval_accuracy': 0.4186046511627907, 'eval_runtime': 0.6629, 'eval_samples_per_second': 6.034, 'eval_steps_per_second': 1.509, 'epoch': 3.0}\n"
     ]
    },
    {
     "data": {
      "application/vnd.jupyter.widget-view+json": {
       "model_id": "9a1b9672d535433494d4d79cfc5ebdd6",
       "version_major": 2,
       "version_minor": 0
      },
      "text/plain": [
       "  0%|          | 0/1 [00:00<?, ?it/s]"
      ]
     },
     "metadata": {},
     "output_type": "display_data"
    },
    {
     "name": "stdout",
     "output_type": "stream",
     "text": [
      "{'eval_loss': 0.7007609009742737, 'eval_precision': 0.0, 'eval_recall': 0.0, 'eval_f1': 0.0, 'eval_accuracy': 0.4186046511627907, 'eval_runtime': 0.8377, 'eval_samples_per_second': 4.775, 'eval_steps_per_second': 1.194, 'epoch': 4.0}\n"
     ]
    },
    {
     "data": {
      "application/vnd.jupyter.widget-view+json": {
       "model_id": "c196aed6ea0944d2bd699b8f5359c642",
       "version_major": 2,
       "version_minor": 0
      },
      "text/plain": [
       "  0%|          | 0/1 [00:00<?, ?it/s]"
      ]
     },
     "metadata": {},
     "output_type": "display_data"
    },
    {
     "name": "stdout",
     "output_type": "stream",
     "text": [
      "{'eval_loss': 0.6892118453979492, 'eval_precision': 0.0, 'eval_recall': 0.0, 'eval_f1': 0.0, 'eval_accuracy': 0.4883720930232558, 'eval_runtime': 0.6887, 'eval_samples_per_second': 5.808, 'eval_steps_per_second': 1.452, 'epoch': 5.0}\n"
     ]
    },
    {
     "data": {
      "application/vnd.jupyter.widget-view+json": {
       "model_id": "9c83ffdc424244ca9c0ca8589e67406c",
       "version_major": 2,
       "version_minor": 0
      },
      "text/plain": [
       "  0%|          | 0/1 [00:00<?, ?it/s]"
      ]
     },
     "metadata": {},
     "output_type": "display_data"
    },
    {
     "name": "stdout",
     "output_type": "stream",
     "text": [
      "{'eval_loss': 0.675236701965332, 'eval_precision': 0.0, 'eval_recall': 0.0, 'eval_f1': 0.0, 'eval_accuracy': 0.5813953488372093, 'eval_runtime': 0.9268, 'eval_samples_per_second': 4.316, 'eval_steps_per_second': 1.079, 'epoch': 6.0}\n"
     ]
    },
    {
     "data": {
      "application/vnd.jupyter.widget-view+json": {
       "model_id": "b22f6ffd51484ff5aefc3d8dd3e4a406",
       "version_major": 2,
       "version_minor": 0
      },
      "text/plain": [
       "  0%|          | 0/1 [00:00<?, ?it/s]"
      ]
     },
     "metadata": {},
     "output_type": "display_data"
    },
    {
     "name": "stdout",
     "output_type": "stream",
     "text": [
      "{'eval_loss': 0.6587273478507996, 'eval_precision': 0.0, 'eval_recall': 0.0, 'eval_f1': 0.0, 'eval_accuracy': 0.7906976744186046, 'eval_runtime': 0.677, 'eval_samples_per_second': 5.909, 'eval_steps_per_second': 1.477, 'epoch': 7.0}\n"
     ]
    },
    {
     "data": {
      "application/vnd.jupyter.widget-view+json": {
       "model_id": "887cedddcc2f40348a822efea55b81e6",
       "version_major": 2,
       "version_minor": 0
      },
      "text/plain": [
       "  0%|          | 0/1 [00:00<?, ?it/s]"
      ]
     },
     "metadata": {},
     "output_type": "display_data"
    },
    {
     "name": "stdout",
     "output_type": "stream",
     "text": [
      "{'eval_loss': 0.6398428082466125, 'eval_precision': 0.0, 'eval_recall': 0.0, 'eval_f1': 0.0, 'eval_accuracy': 0.9069767441860465, 'eval_runtime': 0.7236, 'eval_samples_per_second': 5.528, 'eval_steps_per_second': 1.382, 'epoch': 8.0}\n"
     ]
    },
    {
     "data": {
      "application/vnd.jupyter.widget-view+json": {
       "model_id": "3edd62f0200a4b958d9bd3df4ba4452c",
       "version_major": 2,
       "version_minor": 0
      },
      "text/plain": [
       "  0%|          | 0/1 [00:00<?, ?it/s]"
      ]
     },
     "metadata": {},
     "output_type": "display_data"
    },
    {
     "name": "stdout",
     "output_type": "stream",
     "text": [
      "{'eval_loss': 0.6200997829437256, 'eval_precision': 0.0, 'eval_recall': 0.0, 'eval_f1': 0.0, 'eval_accuracy': 0.9069767441860465, 'eval_runtime': 0.8624, 'eval_samples_per_second': 4.638, 'eval_steps_per_second': 1.159, 'epoch': 9.0}\n",
      "{'loss': 0.6376, 'learning_rate': 4.0000000000000003e-07, 'epoch': 10.0}\n"
     ]
    },
    {
     "data": {
      "application/vnd.jupyter.widget-view+json": {
       "model_id": "0a5c63892b8944569b1ded1db1e5af26",
       "version_major": 2,
       "version_minor": 0
      },
      "text/plain": [
       "  0%|          | 0/1 [00:00<?, ?it/s]"
      ]
     },
     "metadata": {},
     "output_type": "display_data"
    },
    {
     "name": "stdout",
     "output_type": "stream",
     "text": [
      "{'eval_loss': 0.5985599160194397, 'eval_precision': 0.0, 'eval_recall': 0.0, 'eval_f1': 0.0, 'eval_accuracy': 0.9069767441860465, 'eval_runtime': 0.6573, 'eval_samples_per_second': 6.086, 'eval_steps_per_second': 1.521, 'epoch': 10.0}\n"
     ]
    },
    {
     "data": {
      "application/vnd.jupyter.widget-view+json": {
       "model_id": "7d808cc9aa3c41d5a41f55f566e2b027",
       "version_major": 2,
       "version_minor": 0
      },
      "text/plain": [
       "  0%|          | 0/1 [00:00<?, ?it/s]"
      ]
     },
     "metadata": {},
     "output_type": "display_data"
    },
    {
     "name": "stdout",
     "output_type": "stream",
     "text": [
      "{'eval_loss': 0.5754058957099915, 'eval_precision': 0.0, 'eval_recall': 0.0, 'eval_f1': 0.0, 'eval_accuracy': 0.9069767441860465, 'eval_runtime': 1.0382, 'eval_samples_per_second': 3.853, 'eval_steps_per_second': 0.963, 'epoch': 11.0}\n"
     ]
    },
    {
     "data": {
      "application/vnd.jupyter.widget-view+json": {
       "model_id": "0f398d9c66404e0ab527249b5f2e703b",
       "version_major": 2,
       "version_minor": 0
      },
      "text/plain": [
       "  0%|          | 0/1 [00:00<?, ?it/s]"
      ]
     },
     "metadata": {},
     "output_type": "display_data"
    },
    {
     "name": "stdout",
     "output_type": "stream",
     "text": [
      "{'eval_loss': 0.5516551733016968, 'eval_precision': 0.0, 'eval_recall': 0.0, 'eval_f1': 0.0, 'eval_accuracy': 0.9069767441860465, 'eval_runtime': 1.0327, 'eval_samples_per_second': 3.873, 'eval_steps_per_second': 0.968, 'epoch': 12.0}\n"
     ]
    },
    {
     "data": {
      "application/vnd.jupyter.widget-view+json": {
       "model_id": "5e02d35f89d74b45a6d05c5020fada7b",
       "version_major": 2,
       "version_minor": 0
      },
      "text/plain": [
       "  0%|          | 0/1 [00:00<?, ?it/s]"
      ]
     },
     "metadata": {},
     "output_type": "display_data"
    },
    {
     "name": "stdout",
     "output_type": "stream",
     "text": [
      "{'eval_loss': 0.5275481939315796, 'eval_precision': 0.0, 'eval_recall': 0.0, 'eval_f1': 0.0, 'eval_accuracy': 0.9069767441860465, 'eval_runtime': 1.0375, 'eval_samples_per_second': 3.855, 'eval_steps_per_second': 0.964, 'epoch': 13.0}\n"
     ]
    },
    {
     "data": {
      "application/vnd.jupyter.widget-view+json": {
       "model_id": "1129ffa5b8e048fe8dd7eb4a49f95e9c",
       "version_major": 2,
       "version_minor": 0
      },
      "text/plain": [
       "  0%|          | 0/1 [00:00<?, ?it/s]"
      ]
     },
     "metadata": {},
     "output_type": "display_data"
    },
    {
     "name": "stdout",
     "output_type": "stream",
     "text": [
      "{'eval_loss': 0.5027416944503784, 'eval_precision': 0.0, 'eval_recall': 0.0, 'eval_f1': 0.0, 'eval_accuracy': 0.9069767441860465, 'eval_runtime': 0.8014, 'eval_samples_per_second': 4.991, 'eval_steps_per_second': 1.248, 'epoch': 14.0}\n"
     ]
    },
    {
     "data": {
      "application/vnd.jupyter.widget-view+json": {
       "model_id": "4e0a318652714751ae31dbc4bba9d197",
       "version_major": 2,
       "version_minor": 0
      },
      "text/plain": [
       "  0%|          | 0/1 [00:00<?, ?it/s]"
      ]
     },
     "metadata": {},
     "output_type": "display_data"
    },
    {
     "name": "stdout",
     "output_type": "stream",
     "text": [
      "{'eval_loss': 0.47790655493736267, 'eval_precision': 0.0, 'eval_recall': 0.0, 'eval_f1': 0.0, 'eval_accuracy': 0.9069767441860465, 'eval_runtime': 0.8797, 'eval_samples_per_second': 4.547, 'eval_steps_per_second': 1.137, 'epoch': 15.0}\n"
     ]
    },
    {
     "data": {
      "application/vnd.jupyter.widget-view+json": {
       "model_id": "78c58185097e48ef9981f5a29f663373",
       "version_major": 2,
       "version_minor": 0
      },
      "text/plain": [
       "  0%|          | 0/1 [00:00<?, ?it/s]"
      ]
     },
     "metadata": {},
     "output_type": "display_data"
    },
    {
     "name": "stdout",
     "output_type": "stream",
     "text": [
      "{'eval_loss': 0.45363128185272217, 'eval_precision': 0.0, 'eval_recall': 0.0, 'eval_f1': 0.0, 'eval_accuracy': 0.9069767441860465, 'eval_runtime': 0.9172, 'eval_samples_per_second': 4.361, 'eval_steps_per_second': 1.09, 'epoch': 16.0}\n"
     ]
    },
    {
     "data": {
      "application/vnd.jupyter.widget-view+json": {
       "model_id": "e5d97804fc20478a914dcc8910413e0b",
       "version_major": 2,
       "version_minor": 0
      },
      "text/plain": [
       "  0%|          | 0/1 [00:00<?, ?it/s]"
      ]
     },
     "metadata": {},
     "output_type": "display_data"
    },
    {
     "name": "stdout",
     "output_type": "stream",
     "text": [
      "{'eval_loss': 0.4304647147655487, 'eval_precision': 0.0, 'eval_recall': 0.0, 'eval_f1': 0.0, 'eval_accuracy': 0.9069767441860465, 'eval_runtime': 0.8568, 'eval_samples_per_second': 4.668, 'eval_steps_per_second': 1.167, 'epoch': 17.0}\n"
     ]
    },
    {
     "data": {
      "application/vnd.jupyter.widget-view+json": {
       "model_id": "df616f6243f642f3bc8bfa0dba0f39a1",
       "version_major": 2,
       "version_minor": 0
      },
      "text/plain": [
       "  0%|          | 0/1 [00:00<?, ?it/s]"
      ]
     },
     "metadata": {},
     "output_type": "display_data"
    },
    {
     "name": "stdout",
     "output_type": "stream",
     "text": [
      "{'eval_loss': 0.4086436927318573, 'eval_precision': 0.0, 'eval_recall': 0.0, 'eval_f1': 0.0, 'eval_accuracy': 0.9069767441860465, 'eval_runtime': 1.0462, 'eval_samples_per_second': 3.823, 'eval_steps_per_second': 0.956, 'epoch': 18.0}\n"
     ]
    },
    {
     "data": {
      "application/vnd.jupyter.widget-view+json": {
       "model_id": "f54058febb0a42d194545a708fbfd4df",
       "version_major": 2,
       "version_minor": 0
      },
      "text/plain": [
       "  0%|          | 0/1 [00:00<?, ?it/s]"
      ]
     },
     "metadata": {},
     "output_type": "display_data"
    },
    {
     "name": "stdout",
     "output_type": "stream",
     "text": [
      "{'eval_loss': 0.3874046802520752, 'eval_precision': 0.0, 'eval_recall': 0.0, 'eval_f1': 0.0, 'eval_accuracy': 0.9069767441860465, 'eval_runtime': 1.0243, 'eval_samples_per_second': 3.905, 'eval_steps_per_second': 0.976, 'epoch': 19.0}\n",
      "{'loss': 0.4792, 'learning_rate': 8.000000000000001e-07, 'epoch': 20.0}\n"
     ]
    },
    {
     "data": {
      "application/vnd.jupyter.widget-view+json": {
       "model_id": "22b02c3fadb44f1ca687f4e9107fb971",
       "version_major": 2,
       "version_minor": 0
      },
      "text/plain": [
       "  0%|          | 0/1 [00:00<?, ?it/s]"
      ]
     },
     "metadata": {},
     "output_type": "display_data"
    },
    {
     "name": "stdout",
     "output_type": "stream",
     "text": [
      "{'eval_loss': 0.3677537143230438, 'eval_precision': 0.0, 'eval_recall': 0.0, 'eval_f1': 0.0, 'eval_accuracy': 0.9069767441860465, 'eval_runtime': 0.7651, 'eval_samples_per_second': 5.228, 'eval_steps_per_second': 1.307, 'epoch': 20.0}\n",
      "{'train_runtime': 79.8453, 'train_samples_per_second': 1.002, 'train_steps_per_second': 0.25, 'train_loss': 0.558400011062622, 'epoch': 20.0}\n"
     ]
    },
    {
     "data": {
      "text/html": [
       "Waiting for W&B process to finish... <strong style=\"color:green\">(success).</strong>"
      ],
      "text/plain": [
       "<IPython.core.display.HTML object>"
      ]
     },
     "metadata": {},
     "output_type": "display_data"
    },
    {
     "data": {
      "application/vnd.jupyter.widget-view+json": {
       "model_id": "e461835721a943759848abb0a4731433",
       "version_major": 2,
       "version_minor": 0
      },
      "text/plain": [
       "VBox(children=(Label(value='0.001 MB of 0.001 MB uploaded (0.000 MB deduped)\\r'), FloatProgress(value=1.0, max…"
      ]
     },
     "metadata": {},
     "output_type": "display_data"
    },
    {
     "data": {
      "text/html": [
       "<style>\n",
       "    table.wandb td:nth-child(1) { padding: 0 10px; text-align: left ; width: auto;} td:nth-child(2) {text-align: left ; width: 100%}\n",
       "    .wandb-row { display: flex; flex-direction: row; flex-wrap: wrap; justify-content: flex-start; width: 100% }\n",
       "    .wandb-col { display: flex; flex-direction: column; flex-basis: 100%; flex: 1; padding: 10px; }\n",
       "    </style>\n",
       "<div class=\"wandb-row\"><div class=\"wandb-col\"><h3>Run history:</h3><br/><table class=\"wandb\"><tr><td>eval/accuracy</td><td>▁▂▂▂▃▄▆█████████████</td></tr><tr><td>eval/f1</td><td>▁▁▁▁▁▁▁▁▁▁▁▁▁▁▁▁▁▁▁▁</td></tr><tr><td>eval/loss</td><td>████▇▇▇▆▆▆▅▅▄▄▃▃▂▂▁▁</td></tr><tr><td>eval/precision</td><td>▁▁▁▁▁▁▁▁▁▁▁▁▁▁▁▁▁▁▁▁</td></tr><tr><td>eval/recall</td><td>▁▁▁▁▁▁▁▁▁▁▁▁▁▁▁▁▁▁▁▁</td></tr><tr><td>eval/runtime</td><td>█▄▁▄▂▆▁▂▅▁███▄▅▆▅██▃</td></tr><tr><td>eval/samples_per_second</td><td>▁▄█▄▇▃▇▆▄█▁▁▁▅▃▃▄▁▁▅</td></tr><tr><td>eval/steps_per_second</td><td>▁▄█▄▇▃▇▆▄█▁▁▁▅▃▃▄▁▁▅</td></tr><tr><td>train/epoch</td><td>▁▁▂▂▂▃▃▄▄▄▄▅▅▅▆▆▇▇▇████</td></tr><tr><td>train/global_step</td><td>▁▁▂▂▂▃▃▄▄▄▄▅▅▅▆▆▇▇▇████</td></tr><tr><td>train/learning_rate</td><td>▁█</td></tr><tr><td>train/loss</td><td>█▁</td></tr><tr><td>train/total_flos</td><td>▁</td></tr><tr><td>train/train_loss</td><td>▁</td></tr><tr><td>train/train_runtime</td><td>▁</td></tr><tr><td>train/train_samples_per_second</td><td>▁</td></tr><tr><td>train/train_steps_per_second</td><td>▁</td></tr></table><br/></div><div class=\"wandb-col\"><h3>Run summary:</h3><br/><table class=\"wandb\"><tr><td>eval/accuracy</td><td>0.90698</td></tr><tr><td>eval/f1</td><td>0.0</td></tr><tr><td>eval/loss</td><td>0.36775</td></tr><tr><td>eval/precision</td><td>0.0</td></tr><tr><td>eval/recall</td><td>0.0</td></tr><tr><td>eval/runtime</td><td>0.7651</td></tr><tr><td>eval/samples_per_second</td><td>5.228</td></tr><tr><td>eval/steps_per_second</td><td>1.307</td></tr><tr><td>train/epoch</td><td>20.0</td></tr><tr><td>train/global_step</td><td>20</td></tr><tr><td>train/learning_rate</td><td>0.0</td></tr><tr><td>train/loss</td><td>0.4792</td></tr><tr><td>train/total_flos</td><td>2368001857920.0</td></tr><tr><td>train/train_loss</td><td>0.5584</td></tr><tr><td>train/train_runtime</td><td>79.8453</td></tr><tr><td>train/train_samples_per_second</td><td>1.002</td></tr><tr><td>train/train_steps_per_second</td><td>0.25</td></tr></table><br/></div></div>"
      ],
      "text/plain": [
       "<IPython.core.display.HTML object>"
      ]
     },
     "metadata": {},
     "output_type": "display_data"
    },
    {
     "data": {
      "text/html": [
       " View run <strong style=\"color:#cdcd00\">DeepPavlov/rubert-base-cased-64-stress</strong> at: <a href='https://wandb.ai/laputin001/huggingface-stress/runs/mam7bqqo' target=\"_blank\">https://wandb.ai/laputin001/huggingface-stress/runs/mam7bqqo</a><br/>Synced 6 W&B file(s), 0 media file(s), 0 artifact file(s) and 0 other file(s)"
      ],
      "text/plain": [
       "<IPython.core.display.HTML object>"
      ]
     },
     "metadata": {},
     "output_type": "display_data"
    },
    {
     "data": {
      "text/html": [
       "Find logs at: <code>.\\wandb\\run-20240414_194402-mam7bqqo\\logs</code>"
      ],
      "text/plain": [
       "<IPython.core.display.HTML object>"
      ]
     },
     "metadata": {},
     "output_type": "display_data"
    }
   ],
   "source": [
    "import wandb\n",
    "\n",
    "\n",
    "def compute_metrics(eval_preds):\n",
    "    logits, labels = eval_preds\n",
    "    predictions = np.argmax(logits, axis=-1)\n",
    "    label_names = [\"O\", \"A\"]\n",
    "\n",
    "    # Remove ignored index (special tokens) and convert to labels\n",
    "    true_labels = [[label_names[l] for l in label if l != -100] for label in labels]\n",
    "    true_predictions = [\n",
    "        [label_names[p] for (p, l) in zip(prediction, label) if l != -100]\n",
    "        for prediction, label in zip(predictions, labels)\n",
    "    ]\n",
    "    metric = evaluate.load(\"seqeval\")\n",
    "    all_metrics = metric.compute(predictions=true_predictions, references=true_labels)\n",
    "    return {\n",
    "        \"precision\": all_metrics[\"overall_precision\"],\n",
    "        \"recall\": all_metrics[\"overall_recall\"],\n",
    "        \"f1\": all_metrics[\"overall_f1\"],\n",
    "        \"accuracy\": all_metrics[\"overall_accuracy\"],\n",
    "    }\n",
    "\n",
    "\n",
    "wandb.init(\n",
    "    project=\"huggingface-stress\",\n",
    "    name=f\"{MODEL_NAME}-{MODEL_MAX_LENGTH}-{'stress'}\",\n",
    ")\n",
    "\n",
    "training_args = TrainingArguments(\n",
    "    output_dir=\"./results\",  # output directory\n",
    "    num_train_epochs=20,  # total number of training epochs\n",
    "    per_device_train_batch_size=128,  # batch size per device during training\n",
    "    per_device_eval_batch_size=128,  # batch size for evaluation\n",
    "    learning_rate=2e-5,\n",
    "    warmup_steps=500,  # number of warmup steps for learning rate scheduler\n",
    "    weight_decay=0.01,  # strength of weight decay\n",
    "    save_strategy=\"epoch\",\n",
    "    evaluation_strategy=\"epoch\",\n",
    "    logging_dir=\"./logs\",  # directory for storing logs\n",
    "    logging_steps=10,\n",
    "    report_to=\"wandb\",\n",
    ")\n",
    "\n",
    "trainer = Trainer(\n",
    "    model=model,  # the instantiated 🤗 Transformers model to be trained\n",
    "    args=training_args,  # training arguments, defined above\n",
    "    train_dataset=train_dataset,  # training dataset\n",
    "    eval_dataset=test_dataset,  # evaluation dataset\n",
    "    compute_metrics=compute_metrics,\n",
    ")\n",
    "\n",
    "trainer.train()\n",
    "wandb.finish()"
   ]
  },
  {
   "cell_type": "code",
   "execution_count": 11,
   "metadata": {},
   "outputs": [
    {
     "name": "stdout",
     "output_type": "stream",
     "text": [
      "-нибудь\n",
      "-'нибудь\n"
     ]
    }
   ],
   "source": [
    "pipe = pipeline(\n",
    "    \"token-classification\",\n",
    "    model=model,\n",
    "    tokenizer=tokenizer,\n",
    "    aggregation_strategy=\"none\",\n",
    "    ignore_labels=(\"NO\",), \n",
    "    device=\"cuda\"\n",
    ")\n",
    "\n",
    "text = \"-нибудь\"\n",
    "print(text)\n",
    "index = pipe(text)[0][\"index\"]\n",
    "print(text[:index] + \"'\" + text[index:])"
   ]
  },
  {
   "cell_type": "code",
   "execution_count": 12,
   "metadata": {},
   "outputs": [],
   "source": [
    "model = AutoModelForTokenClassification.from_pretrained(r\"D:\\study\\nn\\nn-homeworks\\hw9\\results\\checkpoint-20\")\n",
    "model = model.to(\"cuda\")"
   ]
  },
  {
   "cell_type": "code",
   "execution_count": 13,
   "metadata": {},
   "outputs": [
    {
     "data": {
      "text/plain": [
       "(tensor([[0, 0, 0, 0, 0, 0]], device='cuda:0'),\n",
       " tensor([[[ 0.0207, -1.0284],\n",
       "          [ 0.3162, -0.9342],\n",
       "          [ 0.3113, -0.9281],\n",
       "          [ 0.3618, -0.9046],\n",
       "          [ 0.3407, -0.8975],\n",
       "          [ 0.3504, -0.8938]]], device='cuda:0'))"
      ]
     },
     "execution_count": 13,
     "metadata": {},
     "output_type": "execute_result"
    }
   ],
   "source": [
    "texts = \"мама\"\n",
    "tokenized_inputs = tokenizer(texts, truncation=True, padding=True, return_tensors=\"pt\").to(\"cuda\")\n",
    "with torch.no_grad():\n",
    "    logits = model(**tokenized_inputs).logits\n",
    "predictions = torch.argmax(logits, dim=2)\n",
    "predictions, logits"
   ]
  },
  {
   "cell_type": "code",
   "execution_count": 14,
   "metadata": {},
   "outputs": [
    {
     "data": {
      "text/plain": [
       "(tensor([[0, 0, 0, 0, 0, 0, 0, 0, 0]], device='cuda:0'),\n",
       " tensor([[[ 0.4738, -0.8442],\n",
       "          [ 0.3427, -0.7130],\n",
       "          [ 0.3059, -0.7027],\n",
       "          [ 0.3410, -0.6875],\n",
       "          [ 0.4057, -0.6962],\n",
       "          [ 0.4588, -0.6740],\n",
       "          [ 0.4262, -0.6706],\n",
       "          [ 0.4436, -0.6046],\n",
       "          [ 0.4316, -0.6121]]], device='cuda:0'))"
      ]
     },
     "execution_count": 14,
     "metadata": {},
     "output_type": "execute_result"
    }
   ],
   "source": [
    "texts = \"-нибудь\"\n",
    "tokenized_inputs = tokenizer(texts, truncation=True, padding=True, return_tensors=\"pt\").to(\"cuda\")\n",
    "with torch.no_grad():\n",
    "    logits = model(**tokenized_inputs).logits\n",
    "predictions = torch.argmax(logits, dim=2)\n",
    "predictions, logits"
   ]
  },
  {
   "cell_type": "markdown",
   "metadata": {},
   "source": [
    "По итогу модель очень плохо обучилась, предсказываются все время нули. Долго пытался понять в чем дело, в итоге модель даже не переобучается на один пример. Возможно проблема в токенизации, то что после изменения токенизотора надо очень долго обучать, либо ошибка токенизации в коде, но ее я так и не смог найти, в качестве разметки специальные токены заполнял -100, как и в примере hf, чтобы игнорировались при расчете лосса кросс энтропии, токенам с ударенем поставил метку 1, остальным - 0.\n",
    "\n",
    "Буду рад, если оставите обратную свзяь и подскажите в чем могла быть ошибка."
   ]
  }
 ],
 "metadata": {
  "kernelspec": {
   "display_name": "pcb",
   "language": "python",
   "name": "python3"
  },
  "language_info": {
   "codemirror_mode": {
    "name": "ipython",
    "version": 3
   },
   "file_extension": ".py",
   "mimetype": "text/x-python",
   "name": "python",
   "nbconvert_exporter": "python",
   "pygments_lexer": "ipython3",
   "version": "3.9.16"
  }
 },
 "nbformat": 4,
 "nbformat_minor": 2
}
